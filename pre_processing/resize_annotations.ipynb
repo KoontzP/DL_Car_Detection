{
 "cells": [
  {
   "cell_type": "code",
   "execution_count": null,
   "id": "f02070de-e301-4ba0-98d7-5a74fe7456ba",
   "metadata": {},
   "outputs": [],
   "source": [
    "# Function to resize annotations if data/images have been resized\n",
    "\n",
    "def resize_annotations(annotations, target_size):\n",
    "    # Calculate scaling factors for width and height\n",
    "    scale_w = target_size[0] / annotations['images'][0]['width']\n",
    "    scale_h = target_size[1] / annotations['images'][0]['height']\n",
    "    \n",
    "    # Loop through each annotation\n",
    "    for annotation in annotations['annotations']:\n",
    "        # Update bounding box coordinates\n",
    "        annotation['bbox'][0] *= scale_w  # x-coordinate\n",
    "        annotation['bbox'][1] *= scale_h  # y-coordinate\n",
    "        annotation['bbox'][2] *= scale_w  # width\n",
    "        annotation['bbox'][3] *= scale_h  # height\n",
    "    \n",
    "    # Update image size in annotations\n",
    "    annotations['images'][0]['width'] = target_size[0]\n",
    "    annotations['images'][0]['height'] = target_size[1]\n",
    "    \n",
    "    return annotations"
   ]
  },
  {
   "cell_type": "code",
   "execution_count": null,
   "id": "24909859-c3d8-47d4-bb0f-330d8c34b24e",
   "metadata": {},
   "outputs": [],
   "source": [
    "# Function to adjust annotations with the first function resize_annotations()\n",
    "\n",
    "def adjust_annotations(annotations_path, output_dir, target_size):\n",
    "    # Load annotations from file\n",
    "    with open(annotations_path, 'r') as f:\n",
    "        annotations = json.load(f)\n",
    "\n",
    "    # Resize annotations\n",
    "    resized_annotations = resize_annotations(annotations, target_size)\n",
    "\n",
    "    # Save adjusted annotations to a new file\n",
    "    output_filename = os.path.basename(annotations_path)\n",
    "    output_annotations_path = os.path.join(output_dir, output_filename)\n",
    "    with open(output_annotations_path, 'w') as f:\n",
    "        json.dump(resized_annotations, f)"
   ]
  }
 ],
 "metadata": {
  "kernelspec": {
   "display_name": "Python 3 (ipykernel)",
   "language": "python",
   "name": "python3"
  },
  "language_info": {
   "codemirror_mode": {
    "name": "ipython",
    "version": 3
   },
   "file_extension": ".py",
   "mimetype": "text/x-python",
   "name": "python",
   "nbconvert_exporter": "python",
   "pygments_lexer": "ipython3",
   "version": "3.12.2"
  }
 },
 "nbformat": 4,
 "nbformat_minor": 5
}
