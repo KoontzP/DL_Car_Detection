{
 "cells": [
  {
   "cell_type": "code",
   "execution_count": null,
   "id": "32b59aeb-52f6-48c4-ae24-f5828f196e8e",
   "metadata": {},
   "outputs": [],
   "source": [
    "# Funtion to change the size of images for neural network processing\n",
    "\n",
    "def resize_images_in_directory(input_dir, output_dir, target_size):\n",
    "    # Create the output directory if it doesn't exist\n",
    "    os.makedirs(output_dir, exist_ok=True)\n",
    "    \n",
    "    # Get list of image files in input directory\n",
    "    image_files = [f for f in os.listdir(input_dir) if f.endswith(('.jpg', '.jpeg', '.png'))]\n",
    "    \n",
    "    # Initialize tqdm progress bar\n",
    "    progress_bar = tqdm(total=len(image_files), desc=\"Resizing images\", unit=\"image\", leave=True)\n",
    "    \n",
    "    # Iterate through each image in the input directory\n",
    "    for filename in image_files:\n",
    "        # Load and resize the image\n",
    "        img_path = os.path.join(input_dir, filename)\n",
    "        image = tf.io.read_file(img_path)\n",
    "        image = tf.image.decode_jpeg(image, channels=3)  # Ensure RGB channels\n",
    "        resized_image = tf.image.resize(image, target_size)\n",
    "        \n",
    "        # Convert resized image tensor to uint8 data type\n",
    "        resized_image = tf.cast(resized_image, tf.uint8)\n",
    "        \n",
    "        # Write the resized image to the output directory\n",
    "        output_path = os.path.join(output_dir, filename)\n",
    "        img_bytes = tf.image.encode_jpeg(resized_image)\n",
    "        tf.io.write_file(output_path, img_bytes)\n",
    "        \n",
    "        # Update progress bar\n",
    "        progress_bar.update(1)\n",
    "    \n",
    "    # Close progress bar\n",
    "    progress_bar.close()"
   ]
  }
 ],
 "metadata": {
  "kernelspec": {
   "display_name": "Python 3 (ipykernel)",
   "language": "python",
   "name": "python3"
  },
  "language_info": {
   "codemirror_mode": {
    "name": "ipython",
    "version": 3
   },
   "file_extension": ".py",
   "mimetype": "text/x-python",
   "name": "python",
   "nbconvert_exporter": "python",
   "pygments_lexer": "ipython3",
   "version": "3.12.2"
  }
 },
 "nbformat": 4,
 "nbformat_minor": 5
}
