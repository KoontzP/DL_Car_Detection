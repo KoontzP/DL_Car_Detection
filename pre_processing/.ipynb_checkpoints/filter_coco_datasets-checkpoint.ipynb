{
 "cells": [
  {
   "cell_type": "code",
   "execution_count": null,
   "id": "d6f48dd8-9a06-48ea-adfc-4aafbd706292",
   "metadata": {},
   "outputs": [],
   "source": [
    "# Function to copy filtered images to new directory\n",
    "# NEEDS: Initialized coco instances, mapped categories, directories to save filtered files\n",
    "\n",
    "\n",
    "def copy_filtered_images(coco, img_ids, image_dir, output_dir):\n",
    "    os.makedirs(output_dir, exist_ok=True)\n",
    "    for img_id in img_ids:\n",
    "        img_info = coco.loadImgs(img_id)[0]\n",
    "        img_file = os.path.join(image_dir, img_info['file_name'])\n",
    "        shutil.copy(img_file, output_dir)"
   ]
  }
 ],
 "metadata": {
  "kernelspec": {
   "display_name": "Python 3 (ipykernel)",
   "language": "python",
   "name": "python3"
  },
  "language_info": {
   "codemirror_mode": {
    "name": "ipython",
    "version": 3
   },
   "file_extension": ".py",
   "mimetype": "text/x-python",
   "name": "python",
   "nbconvert_exporter": "python",
   "pygments_lexer": "ipython3",
   "version": "3.12.2"
  }
 },
 "nbformat": 4,
 "nbformat_minor": 5
}
