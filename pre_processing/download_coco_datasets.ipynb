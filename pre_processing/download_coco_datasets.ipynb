{
 "cells": [
  {
   "cell_type": "code",
   "execution_count": 2,
   "id": "384cfdeb-f0d1-48fb-9d33-2387385157c8",
   "metadata": {},
   "outputs": [],
   "source": [
    "# Function to download and extract datasets\n",
    "# NEEDS: url to file, filename, directory for extract\n",
    "\n",
    "\n",
    "def download_and_extract(url, filename, extract_dir):\n",
    "    print(f\"Downloading {filename}...\")\n",
    "    with requests.get(url, stream=True) as response:\n",
    "        with open(filename, \"wb\") as f:\n",
    "            for chunk in response.iter_content(chunk_size=8192):\n",
    "                if chunk:\n",
    "                    f.write(chunk)\n",
    "    print(f\"{filename} downloaded.\")\n",
    "    \n",
    "    print(f\"Extracting {filename}...\")\n",
    "    with zipfile.ZipFile(filename, 'r') as zip_ref:\n",
    "        zip_ref.extractall(extract_dir)\n",
    "    print(f\"{filename} extracted.\")"
   ]
  }
 ],
 "metadata": {
  "kernelspec": {
   "display_name": "Python 3 (ipykernel)",
   "language": "python",
   "name": "python3"
  },
  "language_info": {
   "codemirror_mode": {
    "name": "ipython",
    "version": 3
   },
   "file_extension": ".py",
   "mimetype": "text/x-python",
   "name": "python",
   "nbconvert_exporter": "python",
   "pygments_lexer": "ipython3",
   "version": "3.12.2"
  }
 },
 "nbformat": 4,
 "nbformat_minor": 5
}
