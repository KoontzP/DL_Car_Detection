{
 "cells": [
  {
   "cell_type": "code",
   "execution_count": null,
   "id": "c4c4365b-e36d-429c-a9eb-be91e84f8a95",
   "metadata": {},
   "outputs": [],
   "source": [
    "# Initialize COCO instances\n",
    "train_coco = COCO(train_ann_file)\n",
    "val_coco = COCO(val_ann_file)"
   ]
  },
  {
   "cell_type": "code",
   "execution_count": null,
   "id": "52b37176-9c96-413d-9225-aca58feb7b97",
   "metadata": {},
   "outputs": [],
   "source": [
    "# Categories mapping\n",
    "categories = ['car']\n",
    "cat_ids = train_coco.getCatIds(catNms=categories)\n",
    "img_ids_train = train_coco.getImgIds(catIds=cat_ids)\n",
    "img_ids_val = val_coco.getImgIds(catIds=cat_ids)"
   ]
  },
  {
   "cell_type": "code",
   "execution_count": null,
   "id": "b9e0c77b-927a-4c44-85cd-f4392a8a94fd",
   "metadata": {},
   "outputs": [],
   "source": [
    "# Directories to save filtered images\n",
    "train_filtered_dir = './filtered_images/train_fil/'\n",
    "val_filtered_dir = './filtered_images/val_fil/'\n",
    "train_image_dir = './coco_datasets/train2017/'\n",
    "val_image_dir = './coco_datasets/val2017/'"
   ]
  },
  {
   "cell_type": "code",
   "execution_count": null,
   "id": "d6f48dd8-9a06-48ea-adfc-4aafbd706292",
   "metadata": {},
   "outputs": [],
   "source": [
    "# Function to copy filtered images to new directory\n",
    "def copy_filtered_images(coco, img_ids, image_dir, output_dir):\n",
    "    os.makedirs(output_dir, exist_ok=True)\n",
    "    for img_id in img_ids:\n",
    "        img_info = coco.loadImgs(img_id)[0]\n",
    "        img_file = os.path.join(image_dir, img_info['file_name'])\n",
    "        shutil.copy(img_file, output_dir)"
   ]
  },
  {
   "cell_type": "code",
   "execution_count": null,
   "id": "da4ea0dc-938f-4f57-be44-a8ea648aec80",
   "metadata": {},
   "outputs": [],
   "source": [
    "# Copy filtered train images\n",
    "copy_filtered_images(train_coco, img_ids_train, train_image_dir, train_filtered_dir)\n",
    "\n",
    "# Copy filtered validation images\n",
    "copy_filtered_images(val_coco, img_ids_val, val_image_dir, val_filtered_dir)\n",
    "\n",
    "print(\"Filtered images copied successfully.\")"
   ]
  }
 ],
 "metadata": {
  "kernelspec": {
   "display_name": "Python 3 (ipykernel)",
   "language": "python",
   "name": "python3"
  },
  "language_info": {
   "codemirror_mode": {
    "name": "ipython",
    "version": 3
   },
   "file_extension": ".py",
   "mimetype": "text/x-python",
   "name": "python",
   "nbconvert_exporter": "python",
   "pygments_lexer": "ipython3",
   "version": "3.12.2"
  }
 },
 "nbformat": 4,
 "nbformat_minor": 5
}
