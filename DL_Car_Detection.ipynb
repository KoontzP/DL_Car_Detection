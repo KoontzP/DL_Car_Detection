{
 "cells": [
  {
   "cell_type": "code",
   "execution_count": 53,
   "id": "41f9367d-28d9-4421-bbae-e63ba4884334",
   "metadata": {},
   "outputs": [],
   "source": [
    "# Dependencies\n",
    "import numpy as np\n",
    "import matplotlib.pyplot as plt\n",
    "import os\n",
    "import requests\n",
    "import zipfile\n",
    "from pycocotools.coco import COCO\n",
    "import os\n",
    "import shutil\n",
    "from PIL import Image\n",
    "import tensorflow as tf\n",
    "from tqdm.notebook import tqdm \n",
    "import json\n",
    "import import_ipynb\n",
    "import nbformat\n",
    "\n",
    "# Created models/functions for pre-processing data\n",
    "from pre_processing import download_coco_datasets as dcd\n",
    "from pre_processing import filter_coco_datasets as fcd\n",
    "from pre_processing import resize_coco_datasets as rcd\n",
    "from pre_processing import resize_annotations as ra"
   ]
  },
  {
   "cell_type": "code",
   "execution_count": null,
   "id": "303e9839-31e7-42d6-8878-23774123aed0",
   "metadata": {},
   "outputs": [],
   "source": []
  }
 ],
 "metadata": {
  "kernelspec": {
   "display_name": "Python 3 (ipykernel)",
   "language": "python",
   "name": "python3"
  },
  "language_info": {
   "codemirror_mode": {
    "name": "ipython",
    "version": 3
   },
   "file_extension": ".py",
   "mimetype": "text/x-python",
   "name": "python",
   "nbconvert_exporter": "python",
   "pygments_lexer": "ipython3",
   "version": "3.12.2"
  }
 },
 "nbformat": 4,
 "nbformat_minor": 5
}
