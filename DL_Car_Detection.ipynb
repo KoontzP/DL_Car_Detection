{
 "cells": [
  {
   "cell_type": "code",
   "execution_count": 1,
   "id": "41f9367d-28d9-4421-bbae-e63ba4884334",
   "metadata": {},
   "outputs": [],
   "source": [
    "# Dependencies\n",
    "import numpy as np\n",
    "import matplotlib.pyplot as plt\n",
    "import os\n",
    "import requests\n",
    "import zipfile\n",
    "from pycocotools.coco import COCO\n",
    "import os\n",
    "import shutil"
   ]
  },
  {
   "cell_type": "code",
   "execution_count": 7,
   "id": "80ee9269-a21f-42c3-a34e-5fa1caf7c361",
   "metadata": {},
   "outputs": [],
   "source": [
    "# URLs for downloading the datasets\n",
    "train_url = \"http://images.cocodataset.org/zips/train2017.zip\"\n",
    "val_url = \"http://images.cocodataset.org/zips/val2017.zip\"\n",
    "test_url = \"http://images.cocodataset.org/zips/test2017.zip\"  # Added URL for test dataset\n",
    "annotations_url = \"http://images.cocodataset.org/annotations/annotations_trainval2017.zip\""
   ]
  },
  {
   "cell_type": "code",
   "execution_count": 8,
   "id": "c6e15f95-25db-4efc-a3ca-6352ecc12680",
   "metadata": {},
   "outputs": [],
   "source": [
    "# File names for saving the datasets\n",
    "train_filename = \"coco_train2017.zip\"\n",
    "val_filename = \"coco_val2017.zip\"\n",
    "test_filename = \"coco_test2017.zip\"  # Added filename for test dataset\n",
    "annotations_filename = \"coco_ann2017.zip\""
   ]
  },
  {
   "cell_type": "code",
   "execution_count": 9,
   "id": "27c022ff-f8a4-4cd6-9b74-23d205720690",
   "metadata": {},
   "outputs": [],
   "source": [
    "# Directories to store the extracted datasets\n",
    "train_dir = \"train2017\"\n",
    "val_dir = \"val2017\"\n",
    "test_dir = \"test2017\"  # Added directory for test dataset\n",
    "annotations_dir = \"annotations\""
   ]
  },
  {
   "cell_type": "code",
   "execution_count": 10,
   "id": "7895b4de-f231-4f63-93bf-d8de044da7bb",
   "metadata": {},
   "outputs": [],
   "source": [
    "# Create directories to store the extracted datasets\n",
    "os.makedirs(train_dir, exist_ok=True)\n",
    "os.makedirs(val_dir, exist_ok=True)\n",
    "os.makedirs(test_dir, exist_ok=True)  # Added creation of test directory\n",
    "os.makedirs(annotations_dir, exist_ok=True)"
   ]
  },
  {
   "cell_type": "code",
   "execution_count": 11,
   "id": "88f81344-9fcb-426c-ba20-28965ffcb149",
   "metadata": {},
   "outputs": [],
   "source": [
    "# Function to download and extract datasets\n",
    "def download_and_extract(url, filename, extract_dir):\n",
    "    print(f\"Downloading {filename}...\")\n",
    "    with requests.get(url, stream=True) as response:\n",
    "        with open(filename, \"wb\") as f:\n",
    "            for chunk in response.iter_content(chunk_size=8192):\n",
    "                if chunk:\n",
    "                    f.write(chunk)\n",
    "    print(f\"{filename} downloaded.\")\n",
    "    \n",
    "    print(f\"Extracting {filename}...\")\n",
    "    with zipfile.ZipFile(filename, 'r') as zip_ref:\n",
    "        zip_ref.extractall(extract_dir)\n",
    "    print(f\"{filename} extracted.\")"
   ]
  },
  {
   "cell_type": "code",
   "execution_count": 12,
   "id": "f8b97357-c918-4645-a955-91e7f819ffd2",
   "metadata": {},
   "outputs": [
    {
     "name": "stdout",
     "output_type": "stream",
     "text": [
      "Downloading coco_train2017.zip...\n",
      "coco_train2017.zip downloaded.\n",
      "Extracting coco_train2017.zip...\n",
      "coco_train2017.zip extracted.\n",
      "Downloading coco_val2017.zip...\n",
      "coco_val2017.zip downloaded.\n",
      "Extracting coco_val2017.zip...\n",
      "coco_val2017.zip extracted.\n",
      "Downloading coco_test2017.zip...\n",
      "coco_test2017.zip downloaded.\n",
      "Extracting coco_test2017.zip...\n",
      "coco_test2017.zip extracted.\n",
      "Downloading coco_ann2017.zip...\n",
      "coco_ann2017.zip downloaded.\n",
      "Extracting coco_ann2017.zip...\n",
      "coco_ann2017.zip extracted.\n"
     ]
    }
   ],
   "source": [
    "# Download and extract train dataset\n",
    "download_and_extract(train_url, train_filename, train_dir)\n",
    "\n",
    "# Download and extract validation dataset\n",
    "download_and_extract(val_url, val_filename, val_dir)\n",
    "\n",
    "# Download and extract test dataset\n",
    "download_and_extract(test_url, test_filename, test_dir)  # Added download and extraction of test dataset\n",
    "\n",
    "# Download and extract annotations\n",
    "download_and_extract(annotations_url, annotations_filename, annotations_dir)\n"
   ]
  },
  {
   "cell_type": "code",
   "execution_count": 14,
   "id": "511a947d-a31f-4c33-bbce-2dc0568f2fcf",
   "metadata": {},
   "outputs": [],
   "source": [
    "data_dir = './coco_datasets/'  # Assuming 'coco_datasets' is in the current directory\n",
    "annotations_dir = os.path.join(data_dir, 'annotations')"
   ]
  },
  {
   "cell_type": "code",
   "execution_count": 15,
   "id": "dfcb3184-1d06-4364-8c88-a21d573604ea",
   "metadata": {},
   "outputs": [],
   "source": [
    "# Annotation files\n",
    "train_ann_file = os.path.abspath(os.path.join(annotations_dir, 'instances_train2017.json'))\n",
    "val_ann_file = os.path.abspath(os.path.join(annotations_dir, 'instances_val2017.json'))"
   ]
  },
  {
   "cell_type": "code",
   "execution_count": 16,
   "id": "79c6d414-396d-4a51-9181-8f42083c6b03",
   "metadata": {},
   "outputs": [
    {
     "name": "stdout",
     "output_type": "stream",
     "text": [
      "Train Annotation File Path: C:\\Users\\Pontus\\Desktop\\DL_Projects\\DL_Car_Detection\\coco_datasets\\annotations\\instances_train2017.json\n",
      "Validation Annotation File Path: C:\\Users\\Pontus\\Desktop\\DL_Projects\\DL_Car_Detection\\coco_datasets\\annotations\\instances_val2017.json\n"
     ]
    }
   ],
   "source": [
    "print(\"Train Annotation File Path:\", train_ann_file)\n",
    "print(\"Validation Annotation File Path:\", val_ann_file)"
   ]
  },
  {
   "cell_type": "code",
   "execution_count": 18,
   "id": "75152f53-6ccd-44ec-9178-e5ff600afbfe",
   "metadata": {},
   "outputs": [
    {
     "name": "stdout",
     "output_type": "stream",
     "text": [
      "loading annotations into memory...\n",
      "Done (t=18.10s)\n",
      "creating index...\n",
      "index created!\n",
      "loading annotations into memory...\n",
      "Done (t=0.78s)\n",
      "creating index...\n",
      "index created!\n"
     ]
    }
   ],
   "source": [
    "# Initialize COCO instances\n",
    "train_coco = COCO(train_ann_file)\n",
    "val_coco = COCO(val_ann_file)"
   ]
  },
  {
   "cell_type": "code",
   "execution_count": 21,
   "id": "661e86ed-b350-46fa-a183-6b8a21a72abb",
   "metadata": {},
   "outputs": [],
   "source": [
    "# Categories mapping\n",
    "categories = ['car']\n",
    "cat_ids = train_coco.getCatIds(catNms=categories)\n",
    "img_ids_train = train_coco.getImgIds(catIds=cat_ids)\n",
    "img_ids_val = val_coco.getImgIds(catIds=cat_ids)"
   ]
  },
  {
   "cell_type": "code",
   "execution_count": 28,
   "id": "07b645e3-ae7b-42ca-87ed-3474383eeb4b",
   "metadata": {},
   "outputs": [],
   "source": [
    "# Directories to save filtered images\n",
    "train_filtered_dir = './filtered_images/train_fil/'\n",
    "val_filtered_dir = './filtered_images/val_fil/'\n",
    "train_image_dir = './coco_datasets/train2017/'\n",
    "val_image_dir = './coco_datasets/val2017/'"
   ]
  },
  {
   "cell_type": "code",
   "execution_count": 29,
   "id": "9e0cbb50-7eb4-41ad-8e92-892b5a94fac3",
   "metadata": {},
   "outputs": [],
   "source": [
    "# Function to copy filtered images to new directory\n",
    "def copy_filtered_images(coco, img_ids, image_dir, output_dir):\n",
    "    os.makedirs(output_dir, exist_ok=True)\n",
    "    for img_id in img_ids:\n",
    "        img_info = coco.loadImgs(img_id)[0]\n",
    "        img_file = os.path.join(image_dir, img_info['file_name'])\n",
    "        shutil.copy(img_file, output_dir)"
   ]
  },
  {
   "cell_type": "code",
   "execution_count": 30,
   "id": "3b03fccb-f079-4b96-9781-85596b473d8c",
   "metadata": {},
   "outputs": [
    {
     "name": "stdout",
     "output_type": "stream",
     "text": [
      "Filtered images copied successfully.\n"
     ]
    }
   ],
   "source": [
    "# Copy filtered train images\n",
    "copy_filtered_images(train_coco, img_ids_train, train_image_dir, train_filtered_dir)\n",
    "\n",
    "# Copy filtered validation images\n",
    "copy_filtered_images(val_coco, img_ids_val, val_image_dir, val_filtered_dir)\n",
    "\n",
    "print(\"Filtered images copied successfully.\")"
   ]
  },
  {
   "cell_type": "code",
   "execution_count": null,
   "id": "db6d4bbd-bbd1-403e-92a8-6aa415f33fd0",
   "metadata": {},
   "outputs": [],
   "source": []
  }
 ],
 "metadata": {
  "kernelspec": {
   "display_name": "Python 3 (ipykernel)",
   "language": "python",
   "name": "python3"
  },
  "language_info": {
   "codemirror_mode": {
    "name": "ipython",
    "version": 3
   },
   "file_extension": ".py",
   "mimetype": "text/x-python",
   "name": "python",
   "nbconvert_exporter": "python",
   "pygments_lexer": "ipython3",
   "version": "3.12.2"
  }
 },
 "nbformat": 4,
 "nbformat_minor": 5
}
