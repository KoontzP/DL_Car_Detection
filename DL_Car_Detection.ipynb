{
 "cells": [
  {
   "cell_type": "code",
   "execution_count": 1,
   "id": "41f9367d-28d9-4421-bbae-e63ba4884334",
   "metadata": {},
   "outputs": [],
   "source": [
    "# Dependencies\n",
    "import numpy as np\n",
    "import matplotlib.pyplot as plt\n",
    "import os\n",
    "import requests\n",
    "import zipfile\n",
    "from pycocotools.coco import COCO\n",
    "import os\n",
    "import shutil\n",
    "from PIL import Image\n",
    "import tensorflow as tf\n",
    "from tqdm.notebook import tqdm  # Import tqdm from tqdm.notebook for Jupyter compatibility\n",
    "import json\n",
    "\n",
    "# Self created notebooks for pre-processing coco datasets\n",
    "import downloading_coco_datasets.ipynb\n",
    "import filter_coco_datasets.ipynb\n",
    "import resize_annotations.ipynb\n",
    "import resize_coco_datasets.ipynb"
   ]
  },
  {
   "cell_type": "code",
   "execution_count": null,
   "id": "592f0c53-6f1f-44cb-ae14-79ae83f2b6b1",
   "metadata": {},
   "outputs": [],
   "source": []
  }
 ],
 "metadata": {
  "kernelspec": {
   "display_name": "Python 3 (ipykernel)",
   "language": "python",
   "name": "python3"
  },
  "language_info": {
   "codemirror_mode": {
    "name": "ipython",
    "version": 3
   },
   "file_extension": ".py",
   "mimetype": "text/x-python",
   "name": "python",
   "nbconvert_exporter": "python",
   "pygments_lexer": "ipython3",
   "version": "3.12.2"
  }
 },
 "nbformat": 4,
 "nbformat_minor": 5
}
