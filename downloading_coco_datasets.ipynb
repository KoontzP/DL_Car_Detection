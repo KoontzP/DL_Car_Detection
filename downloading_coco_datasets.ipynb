{
 "cells": [
  {
   "cell_type": "code",
   "execution_count": null,
   "id": "9964f0ad-1364-4226-bc37-5a225ba07cae",
   "metadata": {},
   "outputs": [],
   "source": [
    "# URLs for downloading the datasets\n",
    "train_url = \"http://images.cocodataset.org/zips/train2017.zip\"\n",
    "val_url = \"http://images.cocodataset.org/zips/val2017.zip\"\n",
    "test_url = \"http://images.cocodataset.org/zips/test2017.zip\"  # Added URL for test dataset\n",
    "annotations_url = \"http://images.cocodataset.org/annotations/annotations_trainval2017.zip\""
   ]
  },
  {
   "cell_type": "code",
   "execution_count": null,
   "id": "988362bd-0ba4-4bae-bb80-827ad048e5f9",
   "metadata": {},
   "outputs": [],
   "source": [
    "# File names for saving the datasets\n",
    "train_filename = \"coco_train2017.zip\"\n",
    "val_filename = \"coco_val2017.zip\"\n",
    "test_filename = \"coco_test2017.zip\"  # Added filename for test dataset\n",
    "annotations_filename = \"coco_ann2017.zip\""
   ]
  },
  {
   "cell_type": "code",
   "execution_count": null,
   "id": "c650b2a1-f015-42a8-adc3-c1ffe52d6e36",
   "metadata": {},
   "outputs": [],
   "source": [
    "# Directories to store the extracted datasets\n",
    "train_dir = \"train2017\"\n",
    "val_dir = \"val2017\"\n",
    "test_dir = \"test2017\"  # Added directory for test dataset\n",
    "annotations_dir = \"annotations\""
   ]
  },
  {
   "cell_type": "code",
   "execution_count": null,
   "id": "aaaafc27-2072-47fc-92ce-a2b13c43a441",
   "metadata": {},
   "outputs": [],
   "source": [
    "# Create directories to store the extracted datasets\n",
    "os.makedirs(train_dir, exist_ok=True)\n",
    "os.makedirs(val_dir, exist_ok=True)\n",
    "os.makedirs(test_dir, exist_ok=True)  # Added creation of test directory\n",
    "os.makedirs(annotations_dir, exist_ok=True)"
   ]
  },
  {
   "cell_type": "code",
   "execution_count": null,
   "id": "384cfdeb-f0d1-48fb-9d33-2387385157c8",
   "metadata": {},
   "outputs": [],
   "source": [
    "# Function to download and extract datasets\n",
    "def download_and_extract(url, filename, extract_dir):\n",
    "    print(f\"Downloading {filename}...\")\n",
    "    with requests.get(url, stream=True) as response:\n",
    "        with open(filename, \"wb\") as f:\n",
    "            for chunk in response.iter_content(chunk_size=8192):\n",
    "                if chunk:\n",
    "                    f.write(chunk)\n",
    "    print(f\"{filename} downloaded.\")\n",
    "    \n",
    "    print(f\"Extracting {filename}...\")\n",
    "    with zipfile.ZipFile(filename, 'r') as zip_ref:\n",
    "        zip_ref.extractall(extract_dir)\n",
    "    print(f\"{filename} extracted.\")"
   ]
  },
  {
   "cell_type": "code",
   "execution_count": null,
   "id": "b7b3a464-e185-4309-817c-5aff2d662c65",
   "metadata": {},
   "outputs": [],
   "source": [
    "# Download and extract train dataset\n",
    "download_and_extract(train_url, train_filename, train_dir)\n",
    "\n",
    "# Download and extract validation dataset\n",
    "download_and_extract(val_url, val_filename, val_dir)\n",
    "\n",
    "# Download and extract test dataset\n",
    "download_and_extract(test_url, test_filename, test_dir)  # Added download and extraction of test dataset\n",
    "\n",
    "# Download and extract annotations\n",
    "download_and_extract(annotations_url, annotations_filename, annotations_dir)"
   ]
  }
 ],
 "metadata": {
  "kernelspec": {
   "display_name": "Python 3 (ipykernel)",
   "language": "python",
   "name": "python3"
  },
  "language_info": {
   "codemirror_mode": {
    "name": "ipython",
    "version": 3
   },
   "file_extension": ".py",
   "mimetype": "text/x-python",
   "name": "python",
   "nbconvert_exporter": "python",
   "pygments_lexer": "ipython3",
   "version": "3.12.2"
  }
 },
 "nbformat": 4,
 "nbformat_minor": 5
}
